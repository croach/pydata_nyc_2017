{
 "cells": [
  {
   "cell_type": "markdown",
   "metadata": {
    "slideshow": {
     "slide_type": "slide"
    }
   },
   "source": [
    "# R for Pythonistas\n",
    "## Christopher Roach"
   ]
  },
  {
   "cell_type": "markdown",
   "metadata": {
    "slideshow": {
     "slide_type": "slide"
    }
   },
   "source": [
    "# Reasons for Learning R"
   ]
  },
  {
   "cell_type": "markdown",
   "metadata": {
    "slideshow": {
     "slide_type": "fragment"
    }
   },
   "source": [
    "- It's data-centric. It was literally made for interacting with data."
   ]
  },
  {
   "cell_type": "markdown",
   "metadata": {
    "slideshow": {
     "slide_type": "fragment"
    }
   },
   "source": [
    "- It has tons of battle-tested, high-quality packages for nearly every type of analysis."
   ]
  },
  {
   "cell_type": "markdown",
   "metadata": {
    "slideshow": {
     "slide_type": "fragment"
    }
   },
   "source": [
    "- Its data visualization capabilities (ahem, ggplot2) are second to none."
   ]
  },
  {
   "cell_type": "markdown",
   "metadata": {
    "slideshow": {
     "slide_type": "fragment"
    }
   },
   "source": [
    "- It just seems more natural when dealing with data (functional, dplyr, magrittr)."
   ]
  },
  {
   "cell_type": "markdown",
   "metadata": {
    "slideshow": {
     "slide_type": "fragment"
    }
   },
   "source": [
    "- It's interesting from a language perspective\n",
    "    - Functional\n",
    "    - LISP-style, generics-based OOP\n",
    "    - Non-standard evaluation\n",
    "    - etc."
   ]
  },
  {
   "cell_type": "markdown",
   "metadata": {
    "slideshow": {
     "slide_type": "fragment"
    }
   },
   "source": [
    "- It can be a good source of ideas for the Python community\n",
    "    - Data packages\n",
    "    - Grammar of Graphics\n",
    "    - IDEs"
   ]
  },
  {
   "cell_type": "markdown",
   "metadata": {
    "slideshow": {
     "slide_type": "subslide"
    }
   },
   "source": [
    "# More Resources for Learning Data Science\n",
    "\n",
    "<img src=\"./images/keynote/keynote.001.jpeg\" width=\"768\">"
   ]
  },
  {
   "cell_type": "markdown",
   "metadata": {
    "slideshow": {
     "slide_type": "subslide"
    }
   },
   "source": [
    "# The RStudio Suite of Tools\n",
    "\n",
    "<img src=\"./images/keynote/keynote.002.jpeg\" width=\"768\">"
   ]
  },
  {
   "cell_type": "markdown",
   "metadata": {
    "slideshow": {
     "slide_type": "subslide"
    }
   },
   "source": [
    "<img src=\"./images/most_disliked_languages_900x675.png\" width=\"768\">\n",
    "\n",
    "*Source: [\"What are the Most Disliked Programming Languages?\"][disliked_languages] by David Robinson*\n",
    "\n",
    "[disliked_languages]: https://stackoverflow.blog/2017/10/31/disliked-programming-languages/"
   ]
  },
  {
   "cell_type": "markdown",
   "metadata": {
    "slideshow": {
     "slide_type": "notes"
    }
   },
   "source": [
    "\"What are the Most Disliked Programming Languages?\" by David Robinson\n",
    "\n",
    "On StackOverflow, job seekers can specify which technology they would *most* and *least* like to work with. This gave David Robinson the chance to determine which languages are most disliked by developers. R was the least disliked langauge."
   ]
  },
  {
   "cell_type": "markdown",
   "metadata": {},
   "source": [
    "# "
   ]
  },
  {
   "cell_type": "markdown",
   "metadata": {
    "slideshow": {
     "slide_type": "skip"
    }
   },
   "source": [
    "# Resources\n",
    "\n",
    "- [What are the Most Disliked Programming Languages?][disliked_langauges]\n",
    "\n",
    "[disliked_langauges]: https://stackoverflow.blog/2017/10/31/disliked-programming-languages/\n",
    "\n",
    "- [Presenting Code Using Jupyter Notebook Slides][1]\n",
    "\n",
    "[1]: https://medium.com/@mjspeck/presenting-code-using-jupyter-notebook-slides-a8a3c3b59d67"
   ]
  }
 ],
 "metadata": {
  "celltoolbar": "Slideshow",
  "kernelspec": {
   "display_name": "R - PyData NYC (2017)",
   "language": "R",
   "name": "pydata_nyc_2017_r"
  },
  "language_info": {
   "codemirror_mode": "r",
   "file_extension": ".r",
   "mimetype": "text/x-r-source",
   "name": "R",
   "pygments_lexer": "r",
   "version": "3.4.2"
  }
 },
 "nbformat": 4,
 "nbformat_minor": 2
}
