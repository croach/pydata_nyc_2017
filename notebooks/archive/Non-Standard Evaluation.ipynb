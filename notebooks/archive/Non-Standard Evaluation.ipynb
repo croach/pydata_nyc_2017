{
 "cells": [
  {
   "cell_type": "markdown",
   "metadata": {},
   "source": [
    "# Non-Standard Evaluation\n",
    "\n",
    "One of R's greatest strengths comes from its non-standard approach to code evaluation, or NSE for short. In most programming languages the programmer has access to the values of a function's arguments, but not the code the code used to compute them. However, in R it is possible to access the code directly, which opens up a plethora of opportunities for evaluating that code in non-standard ways. This ability can be put to good use when creating functions for doing interactive data exploration because it can dramatically reduce the amount of typing done by the analyst.\n",
    "\n",
    "We'll get into the details of how this works in a bit, but before we can dive into the particulars of non-standard evaluation, we need to take a look at another of R's features: lazy evaluation. \n",
    "\n",
    "## Lazy Evaluation\n",
    "\n",
    "In R, all function arguments are evaluated only on the first time they are accessed. To accomplish this, R wraps all arguments in a special data type called a promise that captures both the expression needed to compute the argument's value and the environment in which to compute it. This allows us to play things a bit fast and loose with our functions like the example below demonstrates."
   ]
  },
  {
   "cell_type": "code",
   "execution_count": 20,
   "metadata": {},
   "outputs": [
    {
     "data": {
      "text/html": [
       "8"
      ],
      "text/latex": [
       "8"
      ],
      "text/markdown": [
       "8"
      ],
      "text/plain": [
       "[1] 8"
      ]
     },
     "metadata": {},
     "output_type": "display_data"
    },
    {
     "data": {
      "text/html": [
       "8"
      ],
      "text/latex": [
       "8"
      ],
      "text/markdown": [
       "8"
      ],
      "text/plain": [
       "[1] 8"
      ]
     },
     "metadata": {},
     "output_type": "display_data"
    },
    {
     "ename": "ERROR",
     "evalue": "Error in eval(expr, envir, enclos): object 'nonExistentObject' not found\n",
     "output_type": "error",
     "traceback": [
      "Error in eval(expr, envir, enclos): object 'nonExistentObject' not found\nTraceback:\n"
     ]
    }
   ],
   "source": [
    "dbl1 <- function(x, y) { x * 2 }\n",
    "dbl1(4)\n",
    "dbl1(4, nonExistentObject)\n",
    "nonExistentObject\n",
    "\n",
    "dbl2 <- function(x, y) { x * 2; force(y) }\n",
    "dbl2(4)"
   ]
  },
  {
   "cell_type": "markdown",
   "metadata": {},
   "source": [
    "Notice that we can call the first function, `dbl1`, without passing in a value for the `y` argument without getting an error. The reason that we don't get an argument missing error is because the `y` argument is never used within the function, and since arguments are lazily evaluated, we don't see an error. However, in the second function, `dbl2`, we call the `force` function to force the evaluation of the `y` argument. In this case, since we are evaluating `y`, we get an error that our function call is missing a value for an argument.\n",
    "\n",
    "## Non-standard Evaluation\n",
    "\n",
    "As mentioned above, and as part of R's lazy evaluation mechanism, arguments in R are wrapped in a data structure that preserves the code used to produce the argument's value. This implementation detail also gives developers the ability to capture these expressions and operate on them in non-standard ways. Using the `substitute`, `quote`, `deparse`, and `eval` functions allows us implement some really interesting behavior in our functions. \n",
    "\n",
    "<!-- More specifically, the `substitute` and `quote` functions allow us to capture each argument's expression, and the `deparse` and `eval` functions allow us to capture the code itself and evaluate the code within a new context respectively. -->"
   ]
  },
  {
   "cell_type": "code",
   "execution_count": 14,
   "metadata": {},
   "outputs": [],
   "source": [
    "f <- function(x) {\n",
    "    substitute(x)\n",
    "}\n",
    "args <- f(1:10)"
   ]
  },
  {
   "cell_type": "code",
   "execution_count": 18,
   "metadata": {},
   "outputs": [
    {
     "data": {
      "text/html": [
       "'call'"
      ],
      "text/latex": [
       "'call'"
      ],
      "text/markdown": [
       "'call'"
      ],
      "text/plain": [
       "[1] \"call\""
      ]
     },
     "metadata": {},
     "output_type": "display_data"
    }
   ],
   "source": [
    "class(args)"
   ]
  },
  {
   "cell_type": "code",
   "execution_count": 16,
   "metadata": {},
   "outputs": [
    {
     "data": {
      "text/html": [
       "'1:10'"
      ],
      "text/latex": [
       "'1:10'"
      ],
      "text/markdown": [
       "'1:10'"
      ],
      "text/plain": [
       "[1] \"1:10\""
      ]
     },
     "metadata": {},
     "output_type": "display_data"
    }
   ],
   "source": [
    "deparse(args)"
   ]
  },
  {
   "cell_type": "code",
   "execution_count": 22,
   "metadata": {},
   "outputs": [
    {
     "ename": "ERROR",
     "evalue": "Error in mean(vals): object 'vals' not found\n",
     "output_type": "error",
     "traceback": [
      "Error in mean(vals): object 'vals' not found\nTraceback:\n",
      "1. eval(avg)",
      "2. eval(avg)",
      "3. mean(vals)"
     ]
    }
   ],
   "source": [
    "avg <- quote(mean(vals))\n",
    "eval(avg)"
   ]
  },
  {
   "cell_type": "markdown",
   "metadata": {},
   "source": [
    "One of the advantages of non-standard evaluation is that it allows us to evaluate an expression within a different context than the one in which the expression appears lexically."
   ]
  },
  {
   "cell_type": "code",
   "execution_count": 23,
   "metadata": {},
   "outputs": [],
   "source": [
    "e <- new.env()\n",
    "e$vals <- runif(10)\n",
    "\n",
    "eval(avg, e)"
   ]
  },
  {
   "cell_type": "markdown",
   "metadata": {},
   "source": [
    "What this means is "
   ]
  },
  {
   "cell_type": "code",
   "execution_count": 33,
   "metadata": {},
   "outputs": [
    {
     "data": {
      "text/html": [
       "'The value of x + y is 9'"
      ],
      "text/latex": [
       "'The value of x + y is 9'"
      ],
      "text/markdown": [
       "'The value of x + y is 9'"
      ],
      "text/plain": [
       "[1] \"The value of x + y is 9\""
      ]
     },
     "metadata": {},
     "output_type": "display_data"
    }
   ],
   "source": [
    "print_func <- function(expr) {\n",
    "    paste(\"The value of\", deparse(substitute(expr)), \"is\", expr)\n",
    "}\n",
    "\n",
    "x <- 3\n",
    "y <- 6\n",
    "print_func(x + y)"
   ]
  }
 ],
 "metadata": {
  "kernelspec": {
   "display_name": "R - PyData NYC (2017)",
   "language": "R",
   "name": "pydata_nyc_2017_r"
  },
  "language_info": {
   "codemirror_mode": "r",
   "file_extension": ".r",
   "mimetype": "text/x-r-source",
   "name": "R",
   "pygments_lexer": "r",
   "version": "3.4.2"
  }
 },
 "nbformat": 4,
 "nbformat_minor": 2
}
