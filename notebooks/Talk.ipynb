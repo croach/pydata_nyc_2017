{
 "cells": [
  {
   "cell_type": "markdown",
   "metadata": {
    "slideshow": {
     "slide_type": "slide"
    }
   },
   "source": [
    "# R for Pythonistas\n",
    "## Christopher Roach"
   ]
  },
  {
   "cell_type": "markdown",
   "metadata": {
    "slideshow": {
     "slide_type": "slide"
    }
   },
   "source": [
    "# Reasons for Learning R\n",
    "\n",
    "- It makes EDA easy\n",
    "    - It is data-centric\n",
    "    - Its Data visualization library (ahem, ggplot2) is second to none\n",
    "    - It just seems more natural when dealing with data (functional, dplyr, magrittr)"
   ]
  },
  {
   "cell_type": "markdown",
   "metadata": {
    "slideshow": {
     "slide_type": "subslide"
    }
   },
   "source": [
    "# More Resources for Learning Data Science\n",
    "\n",
    "<img src=\"./images/keynote/keynote.001.jpeg\" width=\"768\">"
   ]
  },
  {
   "cell_type": "markdown",
   "metadata": {
    "slideshow": {
     "slide_type": "subslide"
    }
   },
   "source": [
    "# The RStudio Suite of Tools\n",
    "\n",
    "<img src=\"./images/keynote/keynote.002.jpeg\" width=\"768\">"
   ]
  },
  {
   "cell_type": "markdown",
   "metadata": {
    "slideshow": {
     "slide_type": "subslide"
    }
   },
   "source": [
    "<img src=\"./images/most_disliked_languages_900x675.png\" width=\"768\">\n",
    "\n",
    "*Source: [\"What are the Most Disliked Programming Languages?\"][disliked_languages] by David Robinson*\n",
    "\n",
    "[disliked_languages]: https://stackoverflow.blog/2017/10/31/disliked-programming-languages/"
   ]
  },
  {
   "cell_type": "markdown",
   "metadata": {
    "slideshow": {
     "slide_type": "notes"
    }
   },
   "source": [
    "\"What are the Most Disliked Programming Languages?\" by David Robinson\n",
    "\n",
    "On StackOverflow, job seekers can specify which technology they would *most* and *least* like to work with. This gave David Robinson the chance to determine which languages are most disliked by developers. R was the least disliked langauge."
   ]
  },
  {
   "cell_type": "markdown",
   "metadata": {
    "slideshow": {
     "slide_type": "slide"
    }
   },
   "source": [
    "## This is a Test\n",
    "\n",
    "Some other stuff..."
   ]
  },
  {
   "cell_type": "code",
   "execution_count": 2,
   "metadata": {
    "slideshow": {
     "slide_type": "-"
    }
   },
   "outputs": [
    {
     "data": {
      "text/html": [
       "<ol class=list-inline>\n",
       "\t<li><time datetime=\"1950-06-25\">1950-06-25</time></li>\n",
       "\t<li><time datetime=\"1972-06-17\">1972-06-17</time></li>\n",
       "\t<li><time datetime=\"1987-03-04\">1987-03-04</time></li>\n",
       "</ol>\n"
      ],
      "text/latex": [
       "\\begin{enumerate*}\n",
       "\\item 1950-06-25\n",
       "\\item 1972-06-17\n",
       "\\item 1987-03-04\n",
       "\\end{enumerate*}\n"
      ],
      "text/markdown": [
       "1. 1950-06-25\n",
       "2. 1972-06-17\n",
       "3. 1987-03-04\n",
       "\n",
       "\n"
      ],
      "text/plain": [
       "[1] \"1950-06-25\" \"1972-06-17\" \"1987-03-04\""
      ]
     },
     "metadata": {},
     "output_type": "display_data"
    }
   ],
   "source": [
    "new_Date <- function(x) {\n",
    "    stopifnot(is.double(x))\n",
    "    structure(x, class = \"Date\")\n",
    "}\n",
    "\n",
    "new_Date(c(\n",
    "    -7130,  # North Korea invades the South starting the Korean War\n",
    "    898,    # Start of the Watergate Scandal\n",
    "    6271    # Reagan admits to the Iran-Contra Affair\n",
    "))"
   ]
  },
  {
   "cell_type": "markdown",
   "metadata": {
    "slideshow": {
     "slide_type": "notes"
    }
   },
   "source": [
    "Some notes"
   ]
  },
  {
   "cell_type": "markdown",
   "metadata": {
    "slideshow": {
     "slide_type": "slide"
    }
   },
   "source": [
    "## Some LaTeX (aka MathJax) Text\n",
    "\n",
    "$$\n",
    "y = x^{2} + \\frac{1}{2}x^{3}\n",
    "$$"
   ]
  },
  {
   "cell_type": "markdown",
   "metadata": {
    "slideshow": {
     "slide_type": "skip"
    }
   },
   "source": [
    "# Resources\n",
    "\n",
    "- [What are the Most Disliked Programming Languages?][disliked_langauges]\n",
    "\n",
    "[disliked_langauges]: https://stackoverflow.blog/2017/10/31/disliked-programming-languages/\n",
    "\n",
    "- [Presenting Code Using Jupyter Notebook Slides][1]\n",
    "\n",
    "[1]: https://medium.com/@mjspeck/presenting-code-using-jupyter-notebook-slides-a8a3c3b59d67"
   ]
  }
 ],
 "metadata": {
  "celltoolbar": "Slideshow",
  "kernelspec": {
   "display_name": "R - PyData NYC (2017)",
   "language": "R",
   "name": "pydata_nyc_2017_r"
  },
  "language_info": {
   "codemirror_mode": "r",
   "file_extension": ".r",
   "mimetype": "text/x-r-source",
   "name": "R",
   "pygments_lexer": "r",
   "version": "3.4.2"
  }
 },
 "nbformat": 4,
 "nbformat_minor": 2
}
