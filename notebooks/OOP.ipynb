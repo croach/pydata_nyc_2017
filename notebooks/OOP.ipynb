{
 "cells": [
  {
   "cell_type": "markdown",
   "metadata": {},
   "source": [
    "# Object Oriented Programming\n",
    "\n",
    "## S3\n",
    "\n",
    "### Conventions\n",
    "\n",
    "#### Constructors\n",
    "\n",
    "There are 3 rules when writing your S3 constructors:\n",
    "\n",
    "1. Be called `new_class_name()`.\n",
    "2. Have one argument for the base object, and one for each attribute, and possibly more if the class can be subclassed.\n",
    "3. Check the types of the base object and each attribute."
   ]
  },
  {
   "cell_type": "code",
   "execution_count": 2,
   "metadata": {},
   "outputs": [],
   "source": [
    "new_Date <- function(x) {\n",
    "    stopifnot(is.double(x))\n",
    "    structure(x, class = \"Date\")\n",
    "}"
   ]
  },
  {
   "cell_type": "markdown",
   "metadata": {},
   "source": [
    "Now, let's create a few dates with the new constructor. The dates start from Jan. 1st, 1970, so we can create a few dates either going backwards a day at a time by passing in negative integer values, or forward with positive ones."
   ]
  },
  {
   "cell_type": "code",
   "execution_count": 20,
   "metadata": {},
   "outputs": [
    {
     "data": {
      "text/html": [
       "<ol class=list-inline>\n",
       "\t<li><time datetime=\"1950-06-25\">1950-06-25</time></li>\n",
       "\t<li><time datetime=\"1972-06-17\">1972-06-17</time></li>\n",
       "\t<li><time datetime=\"1987-03-04\">1987-03-04</time></li>\n",
       "</ol>\n"
      ],
      "text/latex": [
       "\\begin{enumerate*}\n",
       "\\item 1950-06-25\n",
       "\\item 1972-06-17\n",
       "\\item 1987-03-04\n",
       "\\end{enumerate*}\n"
      ],
      "text/markdown": [
       "1. 1950-06-25\n",
       "2. 1972-06-17\n",
       "3. 1987-03-04\n",
       "\n",
       "\n"
      ],
      "text/plain": [
       "[1] \"1950-06-25\" \"1972-06-17\" \"1987-03-04\""
      ]
     },
     "metadata": {},
     "output_type": "display_data"
    }
   ],
   "source": [
    "new_Date(c(\n",
    "    -7130,  # North Korea invades the South starting the Korean War\n",
    "    898,    # Start of the Watergate Scandal\n",
    "    6271    # Reagan admits to the Iran-Contra Affair\n",
    "))"
   ]
  },
  {
   "cell_type": "markdown",
   "metadata": {},
   "source": [
    "Notice that the function can take either a single value or a vector. This is because, as we saw earlier, everything is a vector in R. So, most of the time you don't need to apply a function to the items in a vector since most of R is aleady \"vectorized\"."
   ]
  }
 ],
 "metadata": {
  "kernelspec": {
   "display_name": "R - PyData NYC (2017)",
   "language": "R",
   "name": "pydata_nyc_2017_r"
  },
  "language_info": {
   "codemirror_mode": "r",
   "file_extension": ".r",
   "mimetype": "text/x-r-source",
   "name": "R",
   "pygments_lexer": "r",
   "version": "3.4.2"
  }
 },
 "nbformat": 4,
 "nbformat_minor": 2
}
