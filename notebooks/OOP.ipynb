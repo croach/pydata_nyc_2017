{
 "cells": [
  {
   "cell_type": "markdown",
   "metadata": {},
   "source": [
    "# Object Oriented Programming\n",
    "\n",
    "## S3\n",
    "\n",
    "The S3 system is all about convention, and it demands just the absolute bare minimum to make things work. Specifically, an S3 object is just a typical base type object with a \"class\" attribute set. As an example, we'll turn a regular integer vector into a factor vector by simply adding two attributes: levels and class."
   ]
  },
  {
   "cell_type": "code",
   "execution_count": 1,
   "metadata": {},
   "outputs": [
    {
     "name": "stdout",
     "output_type": "stream",
     "text": [
      "[1] S  S  M  M  M  L  XL\n",
      "Levels: S M L XL\n"
     ]
    }
   ],
   "source": [
    "# A factor object can only be intergers\n",
    "sizes <- c(1L, 1L, 2L, 2L, 2L, 3L, 4L)\n",
    "\n",
    "# Set\"levels\" and \"class\" to change \"sizes\" into a factor\n",
    "attr(sizes, \"levels\") <- c(\"S\", \"M\", \"L\", \"XL\")\n",
    "attr(sizes, \"class\") <- \"factor\"\n",
    "\n",
    "# Now, print the new factor vector\n",
    "print(sizes)"
   ]
  },
  {
   "cell_type": "markdown",
   "metadata": {},
   "source": [
    "In this style of OOP, the behavior of different classes is implemented by **generic functions** and **methods**. Methods are the functions that actually implement the class-specific behavior, while **generic functions**, or generics for short, are responsible for selecting the correct method to apply based on an object's \"class\" attribute. \n",
    "\n",
    "When we print our factor vector, the generic function `print` looks for a method that matches the naming scheme `generic.class`, which in our case is `print.function`, and it calls this function with the parameters that were passed in. Given this knowledge of how S3 method dispatching works, we can easily override the printing behavior for factor vectors by simply replacing the `print.factor` function with a new one, like we see in the example below."
   ]
  },
  {
   "cell_type": "code",
   "execution_count": 9,
   "metadata": {},
   "outputs": [
    {
     "name": "stdout",
     "output_type": "stream",
     "text": [
      "[1] \"We are printing from the new print.factor function...\"\n",
      "[1] S  S  M  M  M  L  XL\n",
      "Levels: S M L XL\n"
     ]
    }
   ],
   "source": [
    "# Cache the old print.factor function and create a new one\n",
    "old.print.factor <- print.factor\n",
    "print.factor <- function(...) {\n",
    "    print(\"We are printing from the new print.factor function...\")\n",
    "    old.print.factor(...)\n",
    "}\n",
    "\n",
    "# Print the sizes object, which will call our new print.factor function\n",
    "print(sizes)\n",
    "# Then reset the print.factor method back to the original one\n",
    "print.factor <- old.print.factor"
   ]
  },
  {
   "cell_type": "markdown",
   "metadata": {},
   "source": [
    "On a side note, the `generic.class` naming convention is large part of why most modern R style guides discourage using the `.` character within non-method functions since it is possible that it could interfere with the S3 system."
   ]
  },
  {
   "cell_type": "code",
   "execution_count": 14,
   "metadata": {},
   "outputs": [],
   "source": [
    "mean.foo <- function(...) { 42 }"
   ]
  },
  {
   "cell_type": "code",
   "execution_count": 15,
   "metadata": {},
   "outputs": [
    {
     "data": {
      "text/html": [
       "<table>\n",
       "<thead><tr><th scope=col>generic</th><th scope=col>class</th><th scope=col>visible</th><th scope=col>source</th></tr></thead>\n",
       "<tbody>\n",
       "\t<tr><td>mean      </td><td>Date      </td><td>TRUE      </td><td>base      </td></tr>\n",
       "\t<tr><td>mean      </td><td>default   </td><td>TRUE      </td><td>base      </td></tr>\n",
       "\t<tr><td>mean      </td><td>difftime  </td><td>TRUE      </td><td>base      </td></tr>\n",
       "\t<tr><td>mean      </td><td>foo       </td><td>TRUE      </td><td>.GlobalEnv</td></tr>\n",
       "\t<tr><td>mean      </td><td>POSIXct   </td><td>TRUE      </td><td>base      </td></tr>\n",
       "\t<tr><td>mean      </td><td>POSIXlt   </td><td>TRUE      </td><td>base      </td></tr>\n",
       "</tbody>\n",
       "</table>\n"
      ],
      "text/latex": [
       "\\begin{tabular}{r|llll}\n",
       " generic & class & visible & source\\\\\n",
       "\\hline\n",
       "\t mean       & Date       & TRUE       & base      \\\\\n",
       "\t mean       & default    & TRUE       & base      \\\\\n",
       "\t mean       & difftime   & TRUE       & base      \\\\\n",
       "\t mean       & foo        & TRUE       & .GlobalEnv\\\\\n",
       "\t mean       & POSIXct    & TRUE       & base      \\\\\n",
       "\t mean       & POSIXlt    & TRUE       & base      \\\\\n",
       "\\end{tabular}\n"
      ],
      "text/markdown": [
       "\n",
       "generic | class | visible | source | \n",
       "|---|---|---|---|---|---|\n",
       "| mean       | Date       | TRUE       | base       | \n",
       "| mean       | default    | TRUE       | base       | \n",
       "| mean       | difftime   | TRUE       | base       | \n",
       "| mean       | foo        | TRUE       | .GlobalEnv | \n",
       "| mean       | POSIXct    | TRUE       | base       | \n",
       "| mean       | POSIXlt    | TRUE       | base       | \n",
       "\n",
       "\n"
      ],
      "text/plain": [
       "  generic class    visible source    \n",
       "1 mean    Date     TRUE    base      \n",
       "2 mean    default  TRUE    base      \n",
       "3 mean    difftime TRUE    base      \n",
       "4 mean    foo      TRUE    .GlobalEnv\n",
       "5 mean    POSIXct  TRUE    base      \n",
       "6 mean    POSIXlt  TRUE    base      "
      ]
     },
     "metadata": {},
     "output_type": "display_data"
    }
   ],
   "source": [
    "# \n",
    "library(sloop)\n",
    "s3_methods_generic(\"mean\")"
   ]
  },
  {
   "cell_type": "markdown",
   "metadata": {},
   "source": [
    "### Conventions\n",
    "\n",
    "#### Constructors\n",
    "\n",
    "There are 3 rules when writing your S3 constructors:\n",
    "\n",
    "1. Be called `new_class_name()`.\n",
    "2. Have one argument for the base object, and one for each attribute, and possibly more if the class can be subclassed.\n",
    "3. Check the types of the base object and each attribute."
   ]
  },
  {
   "cell_type": "code",
   "execution_count": null,
   "metadata": {},
   "outputs": [],
   "source": [
    "new_Date <- function(x) {\n",
    "    stopifnot(is.double(x))\n",
    "    structure(x, class = \"Date\")\n",
    "}"
   ]
  },
  {
   "cell_type": "markdown",
   "metadata": {},
   "source": [
    "Now, let's create a few dates with the new constructor. The dates start from Jan. 1st, 1970, so we can create a few dates either going backwards a day at a time by passing in negative integer values, or forward with positive ones."
   ]
  },
  {
   "cell_type": "code",
   "execution_count": null,
   "metadata": {},
   "outputs": [],
   "source": [
    "new_Date(c(\n",
    "    -7130,  # North Korea invades the South starting the Korean War\n",
    "    898,    # Start of the Watergate Scandal\n",
    "    6271    # Reagan admits to the Iran-Contra Affair\n",
    "))"
   ]
  },
  {
   "cell_type": "markdown",
   "metadata": {},
   "source": [
    "Notice that the function can take either a single value or a vector. This is because, as we saw earlier, everything is a vector in R. So, most of the time you don't need to apply a function to the items in a vector since most of R is aleady \"vectorized\"."
   ]
  }
 ],
 "metadata": {
  "kernelspec": {
   "display_name": "R - PyData NYC (2017)",
   "language": "R",
   "name": "pydata_nyc_2017_r"
  },
  "language_info": {
   "codemirror_mode": "r",
   "file_extension": ".r",
   "mimetype": "text/x-r-source",
   "name": "R",
   "pygments_lexer": "r",
   "version": "3.4.2"
  }
 },
 "nbformat": 4,
 "nbformat_minor": 2
}
